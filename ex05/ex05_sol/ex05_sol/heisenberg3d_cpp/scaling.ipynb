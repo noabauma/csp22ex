{
 "cells": [
  {
   "cell_type": "markdown",
   "metadata": {},
   "source": [
    "# Critical exponents from finite-size scaling analysis"
   ]
  },
  {
   "cell_type": "code",
   "execution_count": 32,
   "metadata": {},
   "outputs": [
    {
     "name": "stdout",
     "output_type": "stream",
     "text": [
      "['12', '10', '16', '8', '4', '32', '24', '20']\n"
     ]
    }
   ],
   "source": [
    "from matplotlib import pyplot as plt\n",
    "import numpy as np\n",
    "import glob\n",
    "import re\n",
    "\n",
    "Tc = 1/0.693035\n",
    "\n",
    "save = True\n",
    "\n",
    "folder = datafolder = \"outputs\"\n",
    "\n",
    "files = glob.glob(folder + \"/magnetization_L*\" + \".txt\")\n",
    "Ls = []\n",
    "for file in files:\n",
    "    L = re.search(\"[0-9]+\", file).group(0)\n",
    "    Ls.append(L)\n",
    "\n",
    "print(Ls)\n",
    "\n",
    "def jackKnife(procedure, x, n):\n",
    "    block_size = int(np.ceil(len(x) / n))\n",
    "    f = []\n",
    "    for i in range(n):\n",
    "        start = int(i*block_size)\n",
    "        end = int(min((i+1)*block_size, len(x)-1))\n",
    "        x_loo = np.concatenate([x[:start], x[end:]])\n",
    "        f.append(procedure(x_loo))\n",
    "\n",
    "    f_bar = procedure(x)\n",
    "    f = np.array(f)\n",
    "\n",
    "    delta = np.sqrt((n-1)/n * np.sum((f-f_bar)**2))\n",
    "    estimate = n * f_bar - (n-1) * np.mean(f)\n",
    "    return estimate, delta\n",
    "\n",
    "\n",
    "def sort(array, col):\n",
    "    return array[array[:, col].argsort()]\n",
    "\n",
    "\n",
    "num_Ls = len(Ls)\n",
    "Ls = np.sort([int(Ls[i]) for i in range(len(Ls))])\n",
    "color_id = np.linspace(0.3, 1, num_Ls)\n",
    "\n",
    "mag_L = dict()\n",
    "en_L = dict()\n",
    "sus_L = dict()\n",
    "cv_L = dict()\n",
    "\n",
    "for i, L in enumerate(Ls):\n",
    "    cid = color_id[i]\n",
    "\n",
    "    mag_data = np.loadtxt(datafolder + \"/magnetization_L\"+str(L)+\".txt\")\n",
    "    en_data = np.loadtxt(datafolder + \"/energies_L\"+str(L)+\".txt\")\n",
    "    betas = mag_data[:, 0]\n",
    "    sus = []\n",
    "    mag = []\n",
    "    en = []\n",
    "    cv = []\n",
    "\n",
    "    for id, beta in enumerate(betas):\n",
    "        M = np.abs(mag_data[id, 1:]) / L**3\n",
    "        E = en_data[id, 1:] / L**3\n",
    "\n",
    "        def energy(e):\n",
    "            return e.mean() \n",
    "\n",
    "        def magnetization(m):\n",
    "            return m.mean()\n",
    "\n",
    "        def specific_heat(e):\n",
    "            e2 = (e**2).mean()\n",
    "            e = e.mean()\n",
    "            return beta**2*(e2-e**2) * L**3\n",
    "\n",
    "        def susceptibility(m):\n",
    "            m2 = (m**2).mean()\n",
    "            m = m.mean()\n",
    "            return beta*(m2-m**2) * L**3\n",
    "\n",
    "        sus_val, sus_err = jackKnife(susceptibility, M, 20)\n",
    "        sus.append([beta, sus_val, sus_err, plt.cm.PuBu(cid)])\n",
    "\n",
    "        cv_val, cv_err = jackKnife(specific_heat, E, 20)\n",
    "        cv.append([beta, cv_val, cv_err, plt.cm.PuBu(cid)])\n",
    "\n",
    "        mag_val, mag_err = jackKnife(magnetization, M, 20)\n",
    "        mag.append([beta, mag_val, mag_err, plt.cm.PuBu(cid)])\n",
    "\n",
    "        en_val, en_err = jackKnife(energy, E, 20)\n",
    "        en.append([beta, en_val, en_err, plt.cm.PuBu(cid)])\n",
    "\n",
    "    sus_L[L] = sort(np.array(sus, dtype=np.ndarray), 0)\n",
    "    cv_L[L] = sort(np.array(cv, dtype=np.ndarray), 0)\n",
    "    mag_L[L] = sort(np.array(mag, dtype=np.ndarray), 0) \n",
    "    en_L[L] = sort(np.array(en, dtype=np.ndarray), 0)\n"
   ]
  },
  {
   "cell_type": "markdown",
   "metadata": {},
   "source": [
    "## Magnetisation\n",
    "Let $\\tau:=\\frac{T-T_c}{T_c}$. For a finite system, the correlation length $\\xi$ approaches the linear system size $L$ at criticality. Therefore, we use the finite-size scaling ansatz near the critical point for magnetisation $m\\sim |\\tau|^{\\beta}$.\n",
    "$$\n",
    "m(T,L) \\sim L^{\\frac{-\\beta}{\\nu}} \\mathcal{F}_m\\left(\\tau L^{\\frac{1}{\\nu}} \\right).\n",
    "$$"
   ]
  },
  {
   "cell_type": "code",
   "execution_count": 33,
   "metadata": {},
   "outputs": [
    {
     "data": {
      "image/png": "[encoded data removed]",
      "text/plain": [
       "<Figure size 432x288 with 1 Axes>"
      ]
     },
     "metadata": {
      "needs_background": "light"
     },
     "output_type": "display_data"
    }
   ],
   "source": [
    "nu = 0.7036\n",
    "beta = 0.3616\n",
    "\n",
    "colors = {32: \"black\", 24: \"magenta\", 20: \"cyan\", 16: \"yellow\",\n",
    "          12: \"purple\", 10: \"blue\", 8: \"red\", 4: \"green\"}\n",
    "\n",
    "fig, ax = plt.subplots(1, figsize=(6, 4), sharex=True)\n",
    "\n",
    "for L in Ls[1:]:\n",
    "    tau_sc = (1/mag_L[L][:, 0] - Tc) * L ** (1/nu)\n",
    "    mag_sc = mag_L[L][:, 1] * L ** (beta/nu)\n",
    "    color = mag_L[L][0, -1]\n",
    "    ax.plot(tau_sc, mag_sc, 'o', c=color, alpha=1, label=r\"$L=$\"+str(L))\n",
    "\n",
    "ax.set_title(\n",
    "    fr\"Data Collapse for $\\nu = ${nu:.4f}, $\\beta = ${beta:.4f}\")\n",
    "ax.set_ylabel(r'$m L^{\\beta/\\nu}$')\n",
    "ax.set_xlabel(r'$(T-T_c)L^{1/\\nu}$')\n",
    "fig.legend(loc=[0.75, 0.45])\n",
    "\n",
    "if save:\n",
    "    plt.savefig('outputs/mag_exponents.pdf', format='pdf', bbox_inches=\"tight\")\n",
    "if not save:\n",
    "    plt.show()\n"
   ]
  },
  {
   "cell_type": "markdown",
   "metadata": {},
   "source": [
    "## Susceptibility\n",
    "For susceptibility, we have $\\chi \\sim |\\tau|^{-\\gamma}$:\n",
    "$$\n",
    "\\chi(T,L) \\sim L^{\\frac{\\gamma}{\\nu}} \\mathcal{F}_\\chi\\left(\\tau L^{\\frac{1}{\\nu}} \\right).\n",
    "$$"
   ]
  },
  {
   "cell_type": "code",
   "execution_count": 34,
   "metadata": {},
   "outputs": [
    {
     "data": {
      "image/png": "[encoded data removed]",
      "text/plain": [
       "<Figure size 432x288 with 1 Axes>"
      ]
     },
     "metadata": {
      "needs_background": "light"
     },
     "output_type": "display_data"
    }
   ],
   "source": [
    "nu = 0.7036\n",
    "gamma = 1.3896\n",
    "\n",
    "colors = {32: \"black\", 24: \"magenta\", 20: \"cyan\", 16: \"yellow\", 12: \"purple\", 10: \"blue\", 8: \"red\", 4: \"green\"}\n",
    "\n",
    "fig, ax = plt.subplots(1, figsize=(6, 4), sharex=True)\n",
    "\n",
    "for L in Ls[1:]:\n",
    "    tau_sc = (1/sus_L[L][:, 0] - Tc) * L ** (1/nu)\n",
    "    sus_sc = sus_L[L][:, 1] * L ** (-gamma/nu)\n",
    "    color = sus_L[L][0, -1]\n",
    "    ax.plot(tau_sc, sus_sc, 'o', c=color, alpha=1, label=r\"$L=$\"+str(L))\n",
    "\n",
    "ax.set_title(\n",
    "    fr\"Data Collapse for $\\nu = ${nu:.4f}, $\\gamma = ${gamma:.4f}\")\n",
    "ax.set_ylabel(r'$\\chi L^{-\\gamma/\\nu}$')\n",
    "ax.set_xlabel(r'$(T-T_c)L^{1/\\nu}$')\n",
    "ax.set_xlim([-2.5, 4.2])\n",
    "ax.set_ylim([0.013, 0.042])\n",
    "fig.legend(loc=[0.5,0.2])\n",
    "\n",
    "if save:\n",
    "    plt.savefig('outputs/chi_exponents.pdf', format='pdf', bbox_inches=\"tight\")\n",
    "if not save:\n",
    "    plt.show()\n"
   ]
  },
  {
   "cell_type": "markdown",
   "metadata": {},
   "source": [
    "## Specific heat\n",
    "We have $c_V \\sim |\\tau|^{-\\alpha}$. On the other hand, fitting the exponent with the previous method requires knowing the regular (i.e., non-diverging) background contribution to the specific heat:\n",
    "$$\n",
    "c_V(T,L) \\sim c_{\\rm regular}(\\tau) + L^{\\frac{\\alpha}{\\nu}} \\mathcal{F}_{c_V}\\left(\\tau L^{\\frac{1}{\\nu}} \\right).\n",
    "$$"
   ]
  },
  {
   "cell_type": "markdown",
   "metadata": {},
   "source": [
    "Alternatively, we can just use the susceptibility (or order parameter) and the correlation length exponents ($\\gamma\\approx 1.3696 (\\beta\\approx 0.3616), \\nu=0.7036$) to determine the other four exponetns by the scaling laws:\n",
    "$$\\begin{align*}\n",
    "\\gamma &= \\nu(2-\\eta), \\\\\n",
    "\\alpha+2\\beta+\\gamma &= 2, \\\\\n",
    "\\gamma &= \\beta(\\delta-1), \\\\\n",
    "\\nu d &= 2-\\alpha.\n",
    "\\end{align*}$$\n",
    "\n",
    "This gives: \n",
    "$$\\begin{align*}\n",
    "\\alpha &= 2- 3\\nu \\approx -0.1108, \\\\\n",
    "\\beta &= \\frac{1}{2}(2-\\alpha-\\gamma)\\approx 0.3606, \\\\\n",
    "\\eta &= 2 - \\frac{\\gamma}{\\nu} \\approx 0.0250, \\\\\n",
    "\\delta &= \\frac{\\gamma}{\\beta} + 1 \\approx 4.8429.\n",
    "\\end{align*}$$"
   ]
  },
  {
   "cell_type": "code",
   "execution_count": null,
   "metadata": {},
   "outputs": [],
   "source": []
  }
 ],
 "metadata": {
  "interpreter": {
   "hash": "fff7285a7b9674a821da44b8413beb73bd11a21fb8e7ea8626d281a41e1eb1b4"
  },
  "kernelspec": {
   "display_name": "Python 3.9.7 ('base')",
   "language": "python",
   "name": "python3"
  },
  "language_info": {
   "codemirror_mode": {
    "name": "ipython",
    "version": 3
   },
   "file_extension": ".py",
   "mimetype": "text/x-python",
   "name": "python",
   "nbconvert_exporter": "python",
   "pygments_lexer": "ipython3",
   "version": "3.9.7"
  },
  "orig_nbformat": 4
 },
 "nbformat": 4,
 "nbformat_minor": 2
}
