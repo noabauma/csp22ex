{
 "cells": [
  {
   "cell_type": "code",
   "execution_count": 1,
   "metadata": {},
   "outputs": [],
   "source": [
    "import numpy as np\n",
    "from scipy import stats\n",
    "import matplotlib.pyplot as plt"
   ]
  },
  {
   "cell_type": "markdown",
   "metadata": {},
   "source": [
    "# Autocorrelation analysis for Heisenberg"
   ]
  },
  {
   "cell_type": "code",
   "execution_count": 2,
   "metadata": {},
   "outputs": [],
   "source": [
    "f_w = np.loadtxt(\"timing_wolff.txt\")\n",
    "f_m = np.loadtxt(\"timing_metropolis.txt\")"
   ]
  },
  {
   "cell_type": "code",
   "execution_count": 3,
   "metadata": {},
   "outputs": [],
   "source": [
    "beta_c = 6.93001e-1\n",
    "\n",
    "Ls = []\n",
    "ACs = []\n",
    "for i, item in enumerate(f_m):\n",
    "    if item[1] == beta_c:\n",
    "        Ls.append(int(item[0]))\n",
    "        ACs.append(item[3])\n",
    " \n",
    "ACs = np.array(ACs)[np.argsort(Ls)]\n",
    "Ls = np.array(np.sort(Ls))"
   ]
  },
  {
   "cell_type": "code",
   "execution_count": 4,
   "metadata": {},
   "outputs": [
    {
     "data": {
      "image/png": "[encoded data removed]",
      "text/plain": [
       "<Figure size 432x288 with 1 Axes>"
      ]
     },
     "metadata": {
      "needs_background": "light"
     },
     "output_type": "display_data"
    }
   ],
   "source": [
    "fit = stats.linregress(np.log(Ls), np.log(ACs))\n",
    "\n",
    "l = np.linspace(1., 3.5)\n",
    "\n",
    "plt.plot(np.log(Ls), np.log(ACs), 'o')\n",
    "plt.plot(l, l*fit.slope + fit.intercept, label=r\"$z_c=%.3f$\" %fit.slope)\n",
    "plt.legend()\n",
    "plt.xlabel(r\"$\\log L$\")\n",
    "plt.ylabel(r\"$\\log \\tau$\")\n",
    "plt.savefig(\"outputs/MRT2_dynamical_critical_exponent.pdf\")"
   ]
  },
  {
   "cell_type": "code",
   "execution_count": null,
   "metadata": {},
   "outputs": [],
   "source": [
    "beta_c = 6.93001e-1\n",
    "\n",
    "Ls = []\n",
    "ACs = []\n",
    "for i, item in enumerate(f_w):\n",
    "    if item[1] == beta_c:\n",
    "        Ls.append(int(item[0]))\n",
    "        ACs.append(item[3])\n",
    "\n",
    "ACs = np.array(ACs)[np.argsort(Ls)]\n",
    "Ls = np.array(np.sort(Ls))\n"
   ]
  },
  {
   "cell_type": "code",
   "execution_count": null,
   "metadata": {},
   "outputs": [],
   "source": [
    "fit = stats.linregress(np.log(Ls), np.log(ACs))\n",
    "\n",
    "l = np.linspace(1., 3.5)\n",
    "\n",
    "plt.plot(np.log(Ls), np.log(ACs), 'o')\n",
    "plt.plot(l, l*fit.slope + fit.intercept, label=r\"$z_c=%.3f$\" % fit.slope)\n",
    "plt.legend()\n",
    "plt.xlabel(r\"$\\log L$\")\n",
    "plt.ylabel(r\"$\\log \\tau$\")\n",
    "plt.savefig(\"outputs/wolff_dynamical_critical_exponent.pdf\")\n"
   ]
  }
 ],
 "metadata": {
  "kernelspec": {
   "display_name": "Python 3",
   "language": "python",
   "name": "python3"
  },
  "language_info": {
   "codemirror_mode": {
    "name": "ipython",
    "version": 3
   },
   "file_extension": ".py",
   "mimetype": "text/x-python",
   "name": "python",
   "nbconvert_exporter": "python",
   "pygments_lexer": "ipython3",
   "version": "3.9.7"
  }
 },
 "nbformat": 4,
 "nbformat_minor": 4
}
