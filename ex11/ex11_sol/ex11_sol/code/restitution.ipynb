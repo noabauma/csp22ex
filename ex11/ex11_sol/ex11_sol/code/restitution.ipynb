{
 "cells": [
  {
   "cell_type": "code",
   "execution_count": 1,
   "metadata": {},
   "outputs": [],
   "source": [
    "import math\n",
    "import matplotlib.pyplot as plt\n",
    "from matplotlib import rc\n",
    "\n",
    "from src.edmd_1d import *"
   ]
  },
  {
   "cell_type": "code",
   "execution_count": 2,
   "metadata": {},
   "outputs": [],
   "source": [
    "\"\"\"Run simulation for specific initial conditions of four hard-disks.\"\"\"\n",
    "N = 10\n",
    "sigma = 0.1\n",
    "L = 40\n",
    "e = 0.2\n",
    "\n",
    "dt = 0\n",
    "n_steps = int(100)"
   ]
  },
  {
   "cell_type": "code",
   "execution_count": 3,
   "metadata": {},
   "outputs": [
    {
     "name": "stdout",
     "output_type": "stream",
     "text": [
      "Initial kinetic energy is  [835.4720871]\n",
      "Final kinetic energy is  [7.99202159e-21]\n"
     ]
    },
    {
     "data": {
      "image/png": "[encoded data removed]",
      "text/plain": [
       "<Figure size 432x288 with 1 Axes>"
      ]
     },
     "metadata": {
      "needs_background": "light"
     },
     "output_type": "display_data"
    }
   ],
   "source": [
    "x_i, v_i = generate_particles(N, sigma, L, d=1)  # randomly initialise particles\n",
    "E_i = sum(v_i[i]**2 for i in range(N))\n",
    "print('Initial kinetic energy is ', E_i)\n",
    "x_f, v_f = ed_simulation(x_i, v_i, n_steps, sigma, N, L, \n",
    "                         restitution_coefficient=e)\n",
    "E_f = sum(v_f[i]**2 for i in range(N))\n",
    "print('Final kinetic energy is ', E_f)\n",
    "\n",
    "e_eff = math.sqrt(E_f/E_i)\n",
    "\n",
    "snapshot_beads(x_f, N, sigma, np.random.rand(N), L=L)"
   ]
  },
  {
   "cell_type": "code",
   "execution_count": 4,
   "metadata": {},
   "outputs": [
    {
     "data": {
      "application/vnd.jupyter.widget-view+json": {
       "model_id": "fc91be71ccda4fc38bc18a54e45aa103",
       "version_major": 2,
       "version_minor": 0
      },
      "text/plain": [
       "  0%|          | 0/20 [00:00<?, ?it/s]"
      ]
     },
     "metadata": {},
     "output_type": "display_data"
    }
   ],
   "source": [
    "n_steps = int(10000)\n",
    "\n",
    "num_e = 20\n",
    "N_max = 70\n",
    "es = np.linspace(0.1, 0.99, num_e)\n",
    "e_effs = np.zeros((num_e, N_max-1))\n",
    "locs = np.zeros((num_e, N_max-1))\n",
    "\n",
    "for i, e in enumerate(tqdm(es)):\n",
    "    for j, N in enumerate(range(1, N_max)):\n",
    "        x_i, v_i = generate_particles(N, sigma, L, d=1)  # randomly initialise particles\n",
    "        t_wall_slowest = abs(L/min(v_i.values())[0])\n",
    "        \n",
    "        E_i = sum(v_i[i]**2 for i in range(N))\n",
    "        #print('Initial kinetic energy is ', E_i)\n",
    "        x_f, v_f = ed_simulation(x_i, v_i, n_steps, sigma, N, L, \n",
    "                                 restitution_coefficient=e, t_max=t_wall_slowest)\n",
    "        E_f = sum(v_f[i]**2 for i in range(N))\n",
    "        #print('Final kinetic energy is ', E_f)\n",
    "\n",
    "        e_effs[i, j] = math.sqrt(E_f/E_i)\n"
   ]
  },
  {
   "cell_type": "code",
   "execution_count": 5,
   "metadata": {},
   "outputs": [
    {
     "data": {
      "image/png": "[encoded data removed]",
      "text/plain": [
       "<Figure size 216x216 with 2 Axes>"
      ]
     },
     "metadata": {
      "needs_background": "light"
     },
     "output_type": "display_data"
    }
   ],
   "source": [
    "rc('font', size=10)\n",
    "rc('axes', labelsize=10)\n",
    "\n",
    "fig, ax = plt.subplots(figsize=(3,3))\n",
    "\n",
    "p = ax.imshow(e_effs.transpose(), extent=[0.0, 1, N_max-1, 1])\n",
    "ax.set_xlabel(r\"$e$\")\n",
    "ax.set_ylabel(r\"$N$\")\n",
    "ax.set_aspect(0.05)\n",
    "ax.set_ylim([1, 30])\n",
    "plt.colorbar(p, label=r\"$e_{\\rm eff}$\")\n",
    "plt.savefig('phase_diagram.pdf', bbox_inches = 'tight')"
   ]
  },
  {
   "cell_type": "code",
   "execution_count": null,
   "metadata": {},
   "outputs": [],
   "source": []
  }
 ],
 "metadata": {
  "interpreter": {
   "hash": "fff7285a7b9674a821da44b8413beb73bd11a21fb8e7ea8626d281a41e1eb1b4"
  },
  "kernelspec": {
   "display_name": "Python 3.9.7 ('base')",
   "language": "python",
   "name": "python3"
  },
  "language_info": {
   "codemirror_mode": {
    "name": "ipython",
    "version": 3
   },
   "file_extension": ".py",
   "mimetype": "text/x-python",
   "name": "python",
   "nbconvert_exporter": "python",
   "pygments_lexer": "ipython3",
   "version": "3.9.7"
  }
 },
 "nbformat": 4,
 "nbformat_minor": 4
}
