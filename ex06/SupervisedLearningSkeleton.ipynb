{
 "cells": [
  {
   "cell_type": "markdown",
   "id": "b74f26c9",
   "metadata": {},
   "source": [
    "# Exercise 6: Supervised learning for 2D Ising model\n",
    "Before working on this notebook, generate 2D Ising data at several temperatures and save it to file. You should have written a 2D Ising simulation by now, reuse that code. Else, you may adapt one of the solutions to carry out this task.\n",
    "\n",
    "One possibility is to stringify a configuration by concatenating the rows, e.g. the configuration\n",
    "<table>\n",
    "  <tr>\n",
    "    <td>1</td>\n",
    "    <td>-1</td>\n",
    "    <td>1</td>\n",
    "  </tr>\n",
    "  <tr>\n",
    "    <td>-1</td>\n",
    "    <td>1</td>\n",
    "    <td>1</td>\n",
    "  </tr>\n",
    "  <tr>\n",
    "    <td>1</td>\n",
    "    <td>1</td>\n",
    "    <td>1</td>\n",
    "  </tr>\n",
    "</table> \n",
    "\n",
    "could become the string \"1 1 1 -1 1 1 1 -1 1\". Then store all generated configurations in one file, and the temperatures corresponding to the different lines in a different file.\n",
    "\n",
    "Generate \"training\" data from ~20 different temperatures, ~1000 configurations per temperature, and \"verification\" data from different (and potentially more) temperatures (also roughly 1000 configurations per temperature).\n",
    "\n",
    "Think about whether it makes a difference how you represent the data (e.g. what if we concatenate the rows in a different order?)."
   ]
  },
  {
   "cell_type": "markdown",
   "id": "2411423a",
   "metadata": {},
   "source": [
    "# Imports"
   ]
  },
  {
   "cell_type": "code",
   "execution_count": 1,
   "id": "6e408319",
   "metadata": {},
   "outputs": [],
   "source": [
    "import os\n",
    "import numpy as np \n",
    "import matplotlib.pyplot as plt\n",
    "import glob\n",
    "import copy\n",
    "\n",
    "import torch\n",
    "from torch import nn\n",
    "import torch.nn.functional as F\n",
    "\n",
    "from torch.utils.data import Dataset, DataLoader, random_split\n",
    "\n",
    "import torchvision.models as models\n",
    "import torchvision.transforms as transforms\n",
    "\n",
    "import torchmetrics\n",
    "\n",
    "import pytorch_lightning as pl\n",
    "from pytorch_lightning import Callback\n",
    "from pytorch_lightning.callbacks import ModelCheckpoint\n",
    "from pytorch_lightning.callbacks.early_stopping import EarlyStopping\n",
    "from pytorch_lightning.loggers import CSVLogger\n",
    "\n",
    "#from sklearn.model_selection import train_test_split\n",
    "from sklearn.metrics import balanced_accuracy_score, classification_report\n",
    "\n",
    "n_workers = os.cpu_count()"
   ]
  },
  {
   "cell_type": "markdown",
   "id": "15528e0b",
   "metadata": {},
   "source": [
    "# Loading the data"
   ]
  },
  {
   "cell_type": "code",
   "execution_count": 2,
   "id": "2c9ac700",
   "metadata": {},
   "outputs": [],
   "source": [
    "Nsample = 4000\n",
    "L = 32\n",
    "\n",
    "class CustomDataset(Dataset):\n",
    "\n",
    "    def __init__(self):\n",
    "\n",
    "        # make a list containing the path to all your csv files\n",
    "        self.paths =  glob.glob('data/*/*.csv')\n",
    "\n",
    "        # number of samples per csv file\n",
    "        self.Nsample = Nsample\n",
    "        self.L = L\n",
    "\n",
    "        self.data = np.empty((self.Nsample, self.L**2), dtype=int)\n",
    "        self.y = 0.0\n",
    "\n",
    "        self.row_idx = 0\n",
    "    \n",
    "    def __len__(self):\n",
    "        return len(self.paths)*self.Nsample\n",
    "\n",
    "    def __getitem__(self, idx):\n",
    "        T_c = 2.27\n",
    "        \n",
    "        self.row_idx = idx % self.Nsample\n",
    "\n",
    "        #only load new file wenn all of the samples are load from same csv-file\n",
    "        if self.row_idx == 0:\n",
    "            self.data = np.loadtxt(self.paths[int(idx/self.Nsample)], skiprows=1, delimiter=',', dtype=int)\n",
    "            T = np.loadtxt(self.paths[int(idx/self.Nsample)], max_rows=1)\n",
    "            self.y = 1 if T < T_c else 0\n",
    "\n",
    "        \n",
    "        x = self.data[self.row_idx,:]\n",
    "\n",
    "        x = x.reshape(self.L, self.L).astype(np.float32)\n",
    "\n",
    "        return x, np.float32(self.y)\n",
    "\n",
    "full_dataset = CustomDataset()\n",
    "N = full_dataset.__len__()\n",
    "#print(N)\n",
    "#print(full_dataset.__getitem__(0))\n",
    "#print(full_dataset[0][0])\n",
    "\n",
    "train_dataset, val_dataset = random_split(full_dataset, [int(N*0.5), int(N*0.5)])\n",
    "#print(train_dataset.__len__())\n",
    "#print(test_dataset.__len__())\n",
    "\n",
    "batch_size = 2048\n",
    "full_dataloader  = DataLoader(full_dataset, batch_size = batch_size, shuffle = True, num_workers = n_workers)\n",
    "train_dataloader = DataLoader(train_dataset, batch_size = batch_size, shuffle = True, num_workers = n_workers)\n",
    "val_dataloader  = DataLoader(val_dataset, batch_size = batch_size, shuffle = True, num_workers = n_workers)\n",
    "\n",
    "batch_transform = transforms.Compose([ transforms.RandomHorizontalFlip(), transforms.RandomVerticalFlip()])"
   ]
  },
  {
   "cell_type": "markdown",
   "id": "b22fd566",
   "metadata": {},
   "source": [
    "# Sanity check the data"
   ]
  },
  {
   "cell_type": "code",
   "execution_count": 3,
   "id": "bfabf6e8",
   "metadata": {},
   "outputs": [],
   "source": [
    "def plot_configuration(spins):\n",
    "    \n",
    "    L = int(np.sqrt(spins.shape[0]))\n",
    "\n",
    "    #spins = np.array(spins).reshape(L,L).astype(float)\n",
    "\n",
    "    plt.imshow(spins)\n",
    "\n",
    "    plt.axis('off')\n",
    "    plt.show()"
   ]
  },
  {
   "cell_type": "code",
   "execution_count": 4,
   "id": "184583cc",
   "metadata": {},
   "outputs": [
    {
     "name": "stdout",
     "output_type": "stream",
     "text": [
      "Feature batch shape: torch.float32\n",
      "Labels batch shape: torch.float32\n"
     ]
    },
    {
     "data": {
      "image/png": "[encoded data removed]",
      "text/plain": [
       "<Figure size 432x288 with 1 Axes>"
      ]
     },
     "metadata": {
      "needs_background": "light"
     },
     "output_type": "display_data"
    }
   ],
   "source": [
    "train_features, train_labels = next(iter(val_dataloader))\n",
    "print(f\"Feature batch shape: {train_features.dtype}\")\n",
    "print(f\"Labels batch shape: {train_labels.dtype}\")\n",
    "\n",
    "#print(train_features)\n",
    "plot_configuration(train_features[0,:].numpy())"
   ]
  },
  {
   "cell_type": "markdown",
   "id": "8063c5f3",
   "metadata": {},
   "source": [
    "# Preprocessing the data\n",
    "In order for the data to be usable in training, you need to\n",
    "- Define a label coding. For an output layer with two neurons, you could code \"ordered phase\" as (1,0) and \"disordered phase\" as (0,1)\n",
    "- Generate two arrays x and y, such that x contains all configurations and y the corresponding labels, e.g. from {(1,0), (0,1)}. The result should be that the correct label of the configuration x[i] is y[i].\n",
    "- You may want to discard configurations close to the critical point (why?)"
   ]
  },
  {
   "cell_type": "code",
   "execution_count": 5,
   "id": "42a5fd8d",
   "metadata": {},
   "outputs": [],
   "source": [
    "#TODO: Preprocess the data\n",
    "#Not needed"
   ]
  },
  {
   "cell_type": "markdown",
   "id": "a0047d13",
   "metadata": {},
   "source": [
    "# Construct and compile the network\n",
    "Here you construct the neural network. Follow the link given on the exercise sheet.\n",
    "\n",
    "Recommendation:\n",
    "- One hidden layer with 100 neurons and sigmoid activation, fully connected\n",
    "- Output layer with 2 neurons and softmax activation, fully connected\n",
    "\n",
    "Feel free to play around with the network setup!\n",
    "\n",
    "Finally, compile the network."
   ]
  },
  {
   "cell_type": "code",
   "execution_count": 6,
   "id": "b4aec7ff",
   "metadata": {},
   "outputs": [],
   "source": [
    "# Construct the model\n",
    "class Classifier(pl.LightningModule):\n",
    "    def __init__(self, bs=batch_size, batch_transform=None, train_dataset=train_dataset, val_dataset=val_dataset, lr=1e-4):\n",
    "        super().__init__()\n",
    "        \n",
    "        #self.model = nn.Sequential(nn.Flatten(), nn.Linear(L*L, 128), nn.ReLU(), nn.Linear(128, 1), nn.Sigmoid())\n",
    "\n",
    "        self.model = nn.Sequential(nn.Conv2d(1, 6, 5),\n",
    "                                   nn.ReLU(),\n",
    "                                   nn.MaxPool2d(2, 2),\n",
    "                                   nn.Conv2d(6, 16, 5),\n",
    "                                   nn.ReLU(),\n",
    "                                   nn.MaxPool2d(2, 2),\n",
    "                                   nn.Flatten(),\n",
    "                                   nn.Linear(16 * 5 * 5, 120),\n",
    "                                   nn.ReLU(),\n",
    "                                   nn.Linear(120, 84),\n",
    "                                   nn.ReLU(),\n",
    "                                   nn.Linear(84, 1),\n",
    "                                   nn.Sigmoid()\n",
    "                                   )\n",
    "\n",
    "        self.batch_size = bs\n",
    "\n",
    "        self.batch_transform = batch_transform\n",
    "\n",
    "        self.train_dataset = train_dataset\n",
    "        self.val_dataset = val_dataset\n",
    "\n",
    "        self.loss_fct = nn.BCELoss()\n",
    "\n",
    "        self.learning_rate=lr\n",
    "\n",
    "        #self.accuracy = torchmetrics.Accuracy()\n",
    "\n",
    "    def forward(self, x):\n",
    "        return self.model(x)\n",
    "\n",
    "    def compute_loss(self, y_hat, y):\n",
    "        return self.loss_fct(y_hat, y)\n",
    "\n",
    "    def show_model_arch(self):\n",
    "      print(self.model.eval())\n",
    "\n",
    "    def training_step(self, batch, batch_idx):\n",
    "        x, y = batch\n",
    "\n",
    "        \n",
    "        if self.batch_transform:\n",
    "            #x = self.batch_transform(x)\n",
    "            x = torch.roll(x, np.random.randint(L), 1)\n",
    "            x = torch.roll(x, np.random.randint(L), 2)\n",
    "        \n",
    "        x = x.unsqueeze(1)\n",
    "\n",
    "        y_hat = self(x)\n",
    "        y_hat = y_hat.squeeze(1)\n",
    "\n",
    "        loss = self.compute_loss(y_hat, y)\n",
    "        self.log(\"train_loss\", loss, prog_bar=True)\n",
    "        return loss\n",
    "\n",
    "    def validation_step(self, batch, batch_idx):\n",
    "        x, y = batch\n",
    "\n",
    "        x = x.unsqueeze(1)\n",
    "\n",
    "        y_hat = self(x)\n",
    "        y_hat = y_hat.squeeze(1)\n",
    "\n",
    "        loss = self.compute_loss(y_hat, y)\n",
    "        self.log(\"val_loss\", loss, prog_bar=True)\n",
    "\n",
    "    def configure_optimizers(self):\n",
    "        optimizer = torch.optim.Adam(self.model.parameters(), lr=self.learning_rate)\n",
    "        return optimizer\n",
    "\n",
    "    def train_dataloader(self):\n",
    "        return  DataLoader(self.train_dataset, batch_size=self.batch_size, shuffle=True, num_workers=n_workers)\n",
    "\n",
    "    def val_dataloader(self):\n",
    "        return DataLoader(self.val_dataset, batch_size=self.batch_size, shuffle=False, num_workers=n_workers) "
   ]
  },
  {
   "cell_type": "code",
   "execution_count": 7,
   "id": "8ad3847e",
   "metadata": {},
   "outputs": [],
   "source": [
    "#model = models.alexnet()\n",
    "#model.classifier = nn.Sequential(nn.Linear(4096,1), nn.Sigmoid())\n",
    "#model = nn.Sequential(nn.Flatten(), nn.Linear(L*L, 128), nn.ReLU(), nn.Linear(128, 1), nn.Sigmoid())\n",
    "#model.fc = nn.Sequential(nn.Linear(1024,1), nn.Sigmoid())\n",
    "#print(model.eval())"
   ]
  },
  {
   "cell_type": "markdown",
   "id": "e3eba0ee",
   "metadata": {},
   "source": [
    "# Train the network"
   ]
  },
  {
   "cell_type": "code",
   "execution_count": 8,
   "id": "829e8198",
   "metadata": {},
   "outputs": [
    {
     "name": "stderr",
     "output_type": "stream",
     "text": [
      "GPU available: True, used: True\n",
      "TPU available: False, using: 0 TPU cores\n",
      "IPU available: False, using: 0 IPUs\n"
     ]
    },
    {
     "data": {
      "text/plain": [
       "{}"
      ]
     },
     "execution_count": 8,
     "metadata": {},
     "output_type": "execute_result"
    }
   ],
   "source": [
    "# Train ('fit') the model. Experiment with number of epochs and batch sizes.\n",
    "model = Classifier(batch_transform=batch_transform, train_dataset=train_dataset, val_dataset=val_dataset)\n",
    "\n",
    "early_stop_callback = EarlyStopping(monitor=\"val_loss\", min_delta=0.001, patience=10, verbose=False, mode=\"min\")\n",
    "\n",
    "\n",
    "class MetricsCallback(Callback):\n",
    "    \"\"\"PyTorch Lightning metric callback.\"\"\"\n",
    "\n",
    "    def __init__(self):\n",
    "        super().__init__()\n",
    "        self.metrics = []\n",
    "\n",
    "    def on_validation_end(self, trainer, pl_module):\n",
    "        each_me = copy.deepcopy(trainer.logged_metrics)\n",
    "        self.metrics.append(each_me)\n",
    "\n",
    "metrics_callback = MetricsCallback()\n",
    "\n",
    "checkpoint_callback = ModelCheckpoint(monitor=\"val_loss\", mode=\"min\")\n",
    "\n",
    "path = 'checkpoints/'\n",
    "trainer = pl.Trainer(gpus=1, max_epochs=50, precision=32, auto_scale_batch_size=False, auto_lr_find=False, callbacks=[early_stop_callback, metrics_callback, checkpoint_callback], default_root_dir=path)\n",
    "trainer.tune(model)"
   ]
  },
  {
   "cell_type": "code",
   "execution_count": 9,
   "id": "6fcd8a9d",
   "metadata": {},
   "outputs": [
    {
     "name": "stderr",
     "output_type": "stream",
     "text": [
      "LOCAL_RANK: 0 - CUDA_VISIBLE_DEVICES: [0]\n",
      "\n",
      "  | Name     | Type       | Params\n",
      "----------------------------------------\n",
      "0 | model    | Sequential | 60.9 K\n",
      "1 | loss_fct | BCELoss    | 0     \n",
      "----------------------------------------\n",
      "60.9 K    Trainable params\n",
      "0         Non-trainable params\n",
      "60.9 K    Total params\n",
      "0.244     Total estimated model params size (MB)\n"
     ]
    },
    {
     "name": "stdout",
     "output_type": "stream",
     "text": [
      "Epoch 0:   0%|          | 0/80 [00:00<?, ?it/s]                       "
     ]
    },
    {
     "name": "stderr",
     "output_type": "stream",
     "text": [
      "/home/noah/.local/lib/python3.8/site-packages/pytorch_lightning/trainer/data_loading.py:406: UserWarning: The number of training samples (40) is smaller than the logging interval Trainer(log_every_n_steps=50). Set a lower value for log_every_n_steps if you want to see logs for the training epoch.\n",
      "  rank_zero_warn(\n"
     ]
    },
    {
     "name": "stdout",
     "output_type": "stream",
     "text": [
      "Epoch 49: 100%|██████████| 80/80 [00:10<00:00,  7.91it/s, loss=0.000514, v_num=2, train_loss=0.00022, val_loss=0.0385] \n"
     ]
    }
   ],
   "source": [
    "trainer.fit(model)"
   ]
  },
  {
   "cell_type": "code",
   "execution_count": 10,
   "id": "4583a57c",
   "metadata": {},
   "outputs": [
    {
     "name": "stdout",
     "output_type": "stream",
     "text": [
      "checkpoints/lightning_logs/version_2/checkpoints/epoch=39-step=1599.ckpt\n",
      "tensor(0.0310, device='cuda:0')\n"
     ]
    }
   ],
   "source": [
    "#print best model and the val_loss it got\n",
    "print(checkpoint_callback.best_model_path)\n",
    "print(checkpoint_callback.best_model_score)"
   ]
  },
  {
   "cell_type": "code",
   "execution_count": 11,
   "id": "d62d1af5",
   "metadata": {},
   "outputs": [
    {
     "data": {
      "image/png": "[encoded data removed]",
      "text/plain": [
       "<Figure size 432x288 with 1 Axes>"
      ]
     },
     "metadata": {
      "needs_background": "light"
     },
     "output_type": "display_data"
    }
   ],
   "source": [
    "#plot the val_loss & train_loss\n",
    "val_loss_list = []\n",
    "train_loss_list = []\n",
    "for metric in metrics_callback.metrics:\n",
    "    for i in metric.items():\n",
    "        if i[0] == 'val_loss':\n",
    "            val_loss_list.append(i[1].cpu().numpy())\n",
    "            #print(i[1].cpu().numpy())\n",
    "        elif i[0] == 'train_loss':\n",
    "            if torch.is_tensor(i[1]):\n",
    "                train_loss_list.append(i[1].cpu().numpy())\n",
    "\n",
    "plt.plot(range(1, len(val_loss_list)+1), val_loss_list, label=\"val_loss\")\n",
    "plt.plot(range(1, len(train_loss_list)+1), train_loss_list, label=\"train_loss\")\n",
    "\n",
    "best_path = checkpoint_callback.best_model_path\n",
    "for i in range(len(best_path)):\n",
    "    if best_path[i:i+6] == \"epoch=\":\n",
    "        try:\n",
    "            best_epoch = int(best_path[i+6:i+8])\n",
    "        except:\n",
    "            best_epoch = int(best_path[i+6:i+7])\n",
    "        break\n",
    "plt.plot(best_epoch, checkpoint_callback.best_model_score.cpu().numpy(), \"ro\", label=\"best val_loss epoch=\" + str(best_epoch))\n",
    "plt.ylabel(\"loss\")\n",
    "plt.xlabel(\"epoch\")\n",
    "plt.legend()\n",
    "plt.show()"
   ]
  },
  {
   "cell_type": "markdown",
   "id": "b744a990",
   "metadata": {},
   "source": [
    "# Predictions\n",
    "Use your trained model to predict the phases of your \"validation\" configurations. Visualize the results.\n",
    "\n",
    "For example, you could predict the phase of all configurations at a certain temperature T, then count how many are classified as \"disordered\" and how many as \"ordered\". Then plot this as a function of T."
   ]
  },
  {
   "cell_type": "code",
   "execution_count": 12,
   "id": "f259cbab",
   "metadata": {},
   "outputs": [
    {
     "data": {
      "text/plain": [
       "Classifier(\n",
       "  (model): Sequential(\n",
       "    (0): Conv2d(1, 6, kernel_size=(5, 5), stride=(1, 1))\n",
       "    (1): ReLU()\n",
       "    (2): MaxPool2d(kernel_size=2, stride=2, padding=0, dilation=1, ceil_mode=False)\n",
       "    (3): Conv2d(6, 16, kernel_size=(5, 5), stride=(1, 1))\n",
       "    (4): ReLU()\n",
       "    (5): MaxPool2d(kernel_size=2, stride=2, padding=0, dilation=1, ceil_mode=False)\n",
       "    (6): Flatten(start_dim=1, end_dim=-1)\n",
       "    (7): Linear(in_features=400, out_features=120, bias=True)\n",
       "    (8): ReLU()\n",
       "    (9): Linear(in_features=120, out_features=84, bias=True)\n",
       "    (10): ReLU()\n",
       "    (11): Linear(in_features=84, out_features=1, bias=True)\n",
       "    (12): Sigmoid()\n",
       "  )\n",
       "  (loss_fct): BCELoss()\n",
       ")"
      ]
     },
     "execution_count": 12,
     "metadata": {},
     "output_type": "execute_result"
    }
   ],
   "source": [
    "#Perform predictions, visualize the results and interpret.\n",
    "#load from best checkpoint\n",
    "model = Classifier.load_from_checkpoint(checkpoint_callback.best_model_path)\n",
    "\n",
    "model.eval()"
   ]
  },
  {
   "cell_type": "code",
   "execution_count": 13,
   "id": "c1f90c4d",
   "metadata": {},
   "outputs": [],
   "source": [
    "#accuracy train and val set\n",
    "def test(dataloader, model):\n",
    "    size = len(dataloader.dataset)\n",
    "    num_batches = len(dataloader)\n",
    "\n",
    "    if next(model.parameters()).is_cuda:\n",
    "        device = \"cuda\"\n",
    "    else:\n",
    "        device = \"cpu\"\n",
    "\n",
    "    y_hat_all = torch.empty(0).to(device)\n",
    "    y_all = torch.empty(0).to(device)\n",
    "    \n",
    "    test_loss, correct = 0, 0\n",
    "    cnt_batches = 0\n",
    "    with torch.no_grad():\n",
    "        for X, y in dataloader:\n",
    "            X, y = X.to(device), y.to(device)\n",
    "\n",
    "            X = X.unsqueeze(1)\n",
    "            \n",
    "            y_hat = model(X)\n",
    "            y_hat = y_hat.squeeze(1)\n",
    "\n",
    "            # print(y_hat.round())\n",
    "            # print(y)\n",
    "            # print(model.compute_loss(y_hat, y))\n",
    "            # print((y_hat.round() == y).type(torch.float).sum().item())\n",
    "            # break\n",
    "\n",
    "            y_hat_all = torch.cat((y_hat_all, y_hat.round()))\n",
    "            y_all     = torch.cat((y_all, y))\n",
    "\n",
    "            test_loss += model.compute_loss(y_hat, y)\n",
    "            correct += (y_hat.round() == y).type(torch.float).sum().item()\n",
    "\n",
    "            cnt_batches += 1\n",
    "            print(f\"\\r{cnt_batches*100.0/num_batches:>0.1f}%\", end=\"\", flush=True)\n",
    "\n",
    "            \n",
    "\n",
    "    test_loss /= num_batches\n",
    "    correct /= size\n",
    "    y_hat_all, y_all = y_hat_all.cpu().numpy(), y_all.cpu().numpy()\n",
    "    print(f\"\\rTest Error: \\n Accuracy: {(100*correct):>0.1f}%, Avg loss: {test_loss:>8f} \\n\")\n",
    "    print(f\" Balanced Accuracy: \", balanced_accuracy_score(y_all, y_hat_all))\n",
    "    print(f\"\\n Classification report:\\n\", classification_report(y_all, y_hat_all))"
   ]
  },
  {
   "cell_type": "code",
   "execution_count": 14,
   "id": "d24a2d0d",
   "metadata": {},
   "outputs": [
    {
     "name": "stdout",
     "output_type": "stream",
     "text": [
      "Test Error: \n",
      " Accuracy: 98.4%, Avg loss: 0.038395 \n",
      "\n",
      " Balanced Accuracy:  0.9164900157868089\n",
      "\n",
      " Classification report:\n",
      "               precision    recall  f1-score   support\n",
      "\n",
      "         0.0       0.98      1.00      0.99     72323\n",
      "         1.0       1.00      0.83      0.91      7677\n",
      "\n",
      "    accuracy                           0.98     80000\n",
      "   macro avg       0.99      0.92      0.95     80000\n",
      "weighted avg       0.98      0.98      0.98     80000\n",
      "\n"
     ]
    }
   ],
   "source": [
    "test(val_dataloader, model)"
   ]
  },
  {
   "cell_type": "code",
   "execution_count": 15,
   "id": "23ac3eb7",
   "metadata": {},
   "outputs": [
    {
     "name": "stdout",
     "output_type": "stream",
     "text": [
      "Test Error: \n",
      " Accuracy: 100.0%, Avg loss: 0.000564 \n",
      "\n",
      " Balanced Accuracy:  1.0\n",
      "\n",
      " Classification report:\n",
      "               precision    recall  f1-score   support\n",
      "\n",
      "         0.0       1.00      1.00      1.00     75992\n",
      "         1.0       1.00      1.00      1.00      4008\n",
      "\n",
      "    accuracy                           1.00     80000\n",
      "   macro avg       1.00      1.00      1.00     80000\n",
      "weighted avg       1.00      1.00      1.00     80000\n",
      "\n"
     ]
    }
   ],
   "source": [
    "test(train_dataloader, model)"
   ]
  }
 ],
 "metadata": {
  "kernelspec": {
   "display_name": "Python 3 (ipykernel)",
   "language": "python",
   "name": "python3"
  },
  "language_info": {
   "codemirror_mode": {
    "name": "ipython",
    "version": 3
   },
   "file_extension": ".py",
   "mimetype": "text/x-python",
   "name": "python",
   "nbconvert_exporter": "python",
   "pygments_lexer": "ipython3",
   "version": "3.8.10"
  }
 },
 "nbformat": 4,
 "nbformat_minor": 5
}
